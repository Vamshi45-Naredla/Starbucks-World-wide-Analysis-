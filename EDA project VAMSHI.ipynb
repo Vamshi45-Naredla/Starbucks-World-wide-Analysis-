{
 "cells": [
  {
   "cell_type": "markdown",
   "id": "b5b4c224",
   "metadata": {},
   "source": [
    "### Intro"
   ]
  },
  {
   "cell_type": "markdown",
   "id": "46ae4799",
   "metadata": {},
   "source": [
    "###### This is the dataset which contains the information of the Stores which located around the World and this data set has four different Brand Stores and it gives the information of the store locations , phone numbers , address, and to find them in the map it gives the inforamtion of Latitude and Longitude of the specificed Stores.\n",
    "\n",
    "###### The Columns of this data set are 13 and  they are Brand, Store number , Store Name , Ownership Type , Street Address, City , State/ Province , Country , Post code , Phone Number , Time zone , Longitude and Latitude . With the information provided in the columns i did some work in the data which can be seen below .Reading the Data,Finding Null Values,Removing Null Values  "
   ]
  },
  {
   "cell_type": "markdown",
   "id": "98e8d1ee",
   "metadata": {},
   "source": [
    " ### Insights"
   ]
  },
  {
   "cell_type": "markdown",
   "id": "8c5e302f",
   "metadata": {},
   "source": [
    "\n",
    "###### Finding Brand Names \n",
    "###### Finding which country has more number of stores across the World \n",
    "###### Finding the number of stores in the specific country \n",
    "###### Finding which Brand has more number of stores \n",
    "###### Finding Ownership Type \n",
    "###### Stastical Analysis "
   ]
  },
  {
   "cell_type": "markdown",
   "id": "dd0c6d49",
   "metadata": {},
   "source": [
    "### Importing Libraries"
   ]
  },
  {
   "cell_type": "code",
   "execution_count": 1,
   "id": "df849e50",
   "metadata": {},
   "outputs": [],
   "source": [
    "\n",
    "import numpy as np \n",
    "import pandas as pd\n",
    "import matplotlib.pyplot as plt\n",
    "import seaborn as sns\n",
    "\n"
   ]
  },
  {
   "cell_type": "markdown",
   "id": "05a1de3e",
   "metadata": {},
   "source": [
    "### Reading The Data Set"
   ]
  },
  {
   "cell_type": "code",
   "execution_count": 2,
   "id": "0fff5883",
   "metadata": {},
   "outputs": [
    {
     "data": {
      "text/html": [
       "<div>\n",
       "<style scoped>\n",
       "    .dataframe tbody tr th:only-of-type {\n",
       "        vertical-align: middle;\n",
       "    }\n",
       "\n",
       "    .dataframe tbody tr th {\n",
       "        vertical-align: top;\n",
       "    }\n",
       "\n",
       "    .dataframe thead th {\n",
       "        text-align: right;\n",
       "    }\n",
       "</style>\n",
       "<table border=\"1\" class=\"dataframe\">\n",
       "  <thead>\n",
       "    <tr style=\"text-align: right;\">\n",
       "      <th></th>\n",
       "      <th>Brand</th>\n",
       "      <th>Store Number</th>\n",
       "      <th>Store Name</th>\n",
       "      <th>Ownership Type</th>\n",
       "      <th>Street Address</th>\n",
       "      <th>City</th>\n",
       "      <th>State/Province</th>\n",
       "      <th>Country</th>\n",
       "      <th>Postcode</th>\n",
       "      <th>Phone Number</th>\n",
       "      <th>Timezone</th>\n",
       "      <th>Longitude</th>\n",
       "      <th>Latitude</th>\n",
       "    </tr>\n",
       "  </thead>\n",
       "  <tbody>\n",
       "    <tr>\n",
       "      <th>0</th>\n",
       "      <td>Starbucks</td>\n",
       "      <td>47370-257954</td>\n",
       "      <td>Meritxell, 96</td>\n",
       "      <td>Licensed</td>\n",
       "      <td>Av. Meritxell, 96</td>\n",
       "      <td>Andorra la Vella</td>\n",
       "      <td>7</td>\n",
       "      <td>AD</td>\n",
       "      <td>AD500</td>\n",
       "      <td>376818720</td>\n",
       "      <td>GMT+1:00 Europe/Andorra</td>\n",
       "      <td>1.53</td>\n",
       "      <td>42.51</td>\n",
       "    </tr>\n",
       "    <tr>\n",
       "      <th>1</th>\n",
       "      <td>Starbucks</td>\n",
       "      <td>22331-212325</td>\n",
       "      <td>Ajman Drive Thru</td>\n",
       "      <td>Licensed</td>\n",
       "      <td>1 Street 69, Al Jarf</td>\n",
       "      <td>Ajman</td>\n",
       "      <td>AJ</td>\n",
       "      <td>AE</td>\n",
       "      <td>NaN</td>\n",
       "      <td>NaN</td>\n",
       "      <td>GMT+04:00 Asia/Dubai</td>\n",
       "      <td>55.47</td>\n",
       "      <td>25.42</td>\n",
       "    </tr>\n",
       "    <tr>\n",
       "      <th>2</th>\n",
       "      <td>Starbucks</td>\n",
       "      <td>47089-256771</td>\n",
       "      <td>Dana Mall</td>\n",
       "      <td>Licensed</td>\n",
       "      <td>Sheikh Khalifa Bin Zayed St.</td>\n",
       "      <td>Ajman</td>\n",
       "      <td>AJ</td>\n",
       "      <td>AE</td>\n",
       "      <td>NaN</td>\n",
       "      <td>NaN</td>\n",
       "      <td>GMT+04:00 Asia/Dubai</td>\n",
       "      <td>55.47</td>\n",
       "      <td>25.39</td>\n",
       "    </tr>\n",
       "    <tr>\n",
       "      <th>3</th>\n",
       "      <td>Starbucks</td>\n",
       "      <td>22126-218024</td>\n",
       "      <td>Twofour 54</td>\n",
       "      <td>Licensed</td>\n",
       "      <td>Al Salam Street</td>\n",
       "      <td>Abu Dhabi</td>\n",
       "      <td>AZ</td>\n",
       "      <td>AE</td>\n",
       "      <td>NaN</td>\n",
       "      <td>NaN</td>\n",
       "      <td>GMT+04:00 Asia/Dubai</td>\n",
       "      <td>54.38</td>\n",
       "      <td>24.48</td>\n",
       "    </tr>\n",
       "    <tr>\n",
       "      <th>4</th>\n",
       "      <td>Starbucks</td>\n",
       "      <td>17127-178586</td>\n",
       "      <td>Al Ain Tower</td>\n",
       "      <td>Licensed</td>\n",
       "      <td>Khaldiya Area, Abu Dhabi Island</td>\n",
       "      <td>Abu Dhabi</td>\n",
       "      <td>AZ</td>\n",
       "      <td>AE</td>\n",
       "      <td>NaN</td>\n",
       "      <td>NaN</td>\n",
       "      <td>GMT+04:00 Asia/Dubai</td>\n",
       "      <td>54.54</td>\n",
       "      <td>24.51</td>\n",
       "    </tr>\n",
       "    <tr>\n",
       "      <th>...</th>\n",
       "      <td>...</td>\n",
       "      <td>...</td>\n",
       "      <td>...</td>\n",
       "      <td>...</td>\n",
       "      <td>...</td>\n",
       "      <td>...</td>\n",
       "      <td>...</td>\n",
       "      <td>...</td>\n",
       "      <td>...</td>\n",
       "      <td>...</td>\n",
       "      <td>...</td>\n",
       "      <td>...</td>\n",
       "      <td>...</td>\n",
       "    </tr>\n",
       "    <tr>\n",
       "      <th>25595</th>\n",
       "      <td>Starbucks</td>\n",
       "      <td>21401-212072</td>\n",
       "      <td>Rex</td>\n",
       "      <td>Licensed</td>\n",
       "      <td>141 Nguyễn Huệ, Quận 1, Góc đường Pasteur và L...</td>\n",
       "      <td>Thành Phố Hồ Chí Minh</td>\n",
       "      <td>SG</td>\n",
       "      <td>VN</td>\n",
       "      <td>70000</td>\n",
       "      <td>08 3824 4668</td>\n",
       "      <td>GMT+000000 Asia/Saigon</td>\n",
       "      <td>106.70</td>\n",
       "      <td>10.78</td>\n",
       "    </tr>\n",
       "    <tr>\n",
       "      <th>25596</th>\n",
       "      <td>Starbucks</td>\n",
       "      <td>24010-226985</td>\n",
       "      <td>Panorama</td>\n",
       "      <td>Licensed</td>\n",
       "      <td>SN-44, Tòa Nhà Panorama, 208 Trần Văn Trà, Quận 7</td>\n",
       "      <td>Thành Phố Hồ Chí Minh</td>\n",
       "      <td>SG</td>\n",
       "      <td>VN</td>\n",
       "      <td>70000</td>\n",
       "      <td>08 5413 8292</td>\n",
       "      <td>GMT+000000 Asia/Saigon</td>\n",
       "      <td>106.71</td>\n",
       "      <td>10.72</td>\n",
       "    </tr>\n",
       "    <tr>\n",
       "      <th>25597</th>\n",
       "      <td>Starbucks</td>\n",
       "      <td>47608-253804</td>\n",
       "      <td>Rosebank Mall</td>\n",
       "      <td>Licensed</td>\n",
       "      <td>Cnr Tyrwhitt and Cradock Avenue, Rosebank</td>\n",
       "      <td>Johannesburg</td>\n",
       "      <td>GT</td>\n",
       "      <td>ZA</td>\n",
       "      <td>2194</td>\n",
       "      <td>27873500159</td>\n",
       "      <td>GMT+000000 Africa/Johannesburg</td>\n",
       "      <td>28.04</td>\n",
       "      <td>-26.15</td>\n",
       "    </tr>\n",
       "    <tr>\n",
       "      <th>25598</th>\n",
       "      <td>Starbucks</td>\n",
       "      <td>47640-253809</td>\n",
       "      <td>Menlyn Maine</td>\n",
       "      <td>Licensed</td>\n",
       "      <td>Shop 61B, Central Square, Cnr Aramist &amp; Coroba...</td>\n",
       "      <td>Menlyn</td>\n",
       "      <td>GT</td>\n",
       "      <td>ZA</td>\n",
       "      <td>181</td>\n",
       "      <td>NaN</td>\n",
       "      <td>GMT+000000 Africa/Johannesburg</td>\n",
       "      <td>28.28</td>\n",
       "      <td>-25.79</td>\n",
       "    </tr>\n",
       "    <tr>\n",
       "      <th>25599</th>\n",
       "      <td>Starbucks</td>\n",
       "      <td>47609-253286</td>\n",
       "      <td>Mall of Africa</td>\n",
       "      <td>Licensed</td>\n",
       "      <td>Shop 2077, Upper Level, Waterfall City</td>\n",
       "      <td>Midrand</td>\n",
       "      <td>GT</td>\n",
       "      <td>ZA</td>\n",
       "      <td>1682</td>\n",
       "      <td>27873500215</td>\n",
       "      <td>GMT+000000 Africa/Johannesburg</td>\n",
       "      <td>28.11</td>\n",
       "      <td>-26.02</td>\n",
       "    </tr>\n",
       "  </tbody>\n",
       "</table>\n",
       "<p>25600 rows × 13 columns</p>\n",
       "</div>"
      ],
      "text/plain": [
       "           Brand  Store Number        Store Name Ownership Type  \\\n",
       "0      Starbucks  47370-257954     Meritxell, 96       Licensed   \n",
       "1      Starbucks  22331-212325  Ajman Drive Thru       Licensed   \n",
       "2      Starbucks  47089-256771         Dana Mall       Licensed   \n",
       "3      Starbucks  22126-218024        Twofour 54       Licensed   \n",
       "4      Starbucks  17127-178586      Al Ain Tower       Licensed   \n",
       "...          ...           ...               ...            ...   \n",
       "25595  Starbucks  21401-212072               Rex       Licensed   \n",
       "25596  Starbucks  24010-226985          Panorama       Licensed   \n",
       "25597  Starbucks  47608-253804     Rosebank Mall       Licensed   \n",
       "25598  Starbucks  47640-253809      Menlyn Maine       Licensed   \n",
       "25599  Starbucks  47609-253286    Mall of Africa       Licensed   \n",
       "\n",
       "                                          Street Address  \\\n",
       "0                                      Av. Meritxell, 96   \n",
       "1                                   1 Street 69, Al Jarf   \n",
       "2                           Sheikh Khalifa Bin Zayed St.   \n",
       "3                                        Al Salam Street   \n",
       "4                        Khaldiya Area, Abu Dhabi Island   \n",
       "...                                                  ...   \n",
       "25595  141 Nguyễn Huệ, Quận 1, Góc đường Pasteur và L...   \n",
       "25596  SN-44, Tòa Nhà Panorama, 208 Trần Văn Trà, Quận 7   \n",
       "25597          Cnr Tyrwhitt and Cradock Avenue, Rosebank   \n",
       "25598  Shop 61B, Central Square, Cnr Aramist & Coroba...   \n",
       "25599             Shop 2077, Upper Level, Waterfall City   \n",
       "\n",
       "                        City State/Province Country Postcode  Phone Number  \\\n",
       "0           Andorra la Vella              7      AD    AD500     376818720   \n",
       "1                      Ajman             AJ      AE      NaN           NaN   \n",
       "2                      Ajman             AJ      AE      NaN           NaN   \n",
       "3                  Abu Dhabi             AZ      AE      NaN           NaN   \n",
       "4                  Abu Dhabi             AZ      AE      NaN           NaN   \n",
       "...                      ...            ...     ...      ...           ...   \n",
       "25595  Thành Phố Hồ Chí Minh             SG      VN    70000  08 3824 4668   \n",
       "25596  Thành Phố Hồ Chí Minh             SG      VN    70000  08 5413 8292   \n",
       "25597           Johannesburg             GT      ZA     2194   27873500159   \n",
       "25598                 Menlyn             GT      ZA      181           NaN   \n",
       "25599                Midrand             GT      ZA     1682   27873500215   \n",
       "\n",
       "                             Timezone  Longitude  Latitude  \n",
       "0             GMT+1:00 Europe/Andorra       1.53     42.51  \n",
       "1                GMT+04:00 Asia/Dubai      55.47     25.42  \n",
       "2                GMT+04:00 Asia/Dubai      55.47     25.39  \n",
       "3                GMT+04:00 Asia/Dubai      54.38     24.48  \n",
       "4                GMT+04:00 Asia/Dubai      54.54     24.51  \n",
       "...                               ...        ...       ...  \n",
       "25595          GMT+000000 Asia/Saigon     106.70     10.78  \n",
       "25596          GMT+000000 Asia/Saigon     106.71     10.72  \n",
       "25597  GMT+000000 Africa/Johannesburg      28.04    -26.15  \n",
       "25598  GMT+000000 Africa/Johannesburg      28.28    -25.79  \n",
       "25599  GMT+000000 Africa/Johannesburg      28.11    -26.02  \n",
       "\n",
       "[25600 rows x 13 columns]"
      ]
     },
     "execution_count": 2,
     "metadata": {},
     "output_type": "execute_result"
    }
   ],
   "source": [
    "data = pd.read_csv(r\"C:\\Users\\vamsh\\OneDrive\\Desktop\\vamshi data set project\\directory.csv\")\n",
    "data"
   ]
  },
  {
   "cell_type": "markdown",
   "id": "cd2a8b61",
   "metadata": {},
   "source": [
    "#### The Data Set has 25600 rows and 13 columns "
   ]
  },
  {
   "cell_type": "code",
   "execution_count": 3,
   "id": "6ff7fd24",
   "metadata": {},
   "outputs": [
    {
     "name": "stdout",
     "output_type": "stream",
     "text": [
      "<class 'pandas.core.frame.DataFrame'>\n",
      "RangeIndex: 25600 entries, 0 to 25599\n",
      "Data columns (total 13 columns):\n",
      " #   Column          Non-Null Count  Dtype  \n",
      "---  ------          --------------  -----  \n",
      " 0   Brand           25600 non-null  object \n",
      " 1   Store Number    25600 non-null  object \n",
      " 2   Store Name      25600 non-null  object \n",
      " 3   Ownership Type  25600 non-null  object \n",
      " 4   Street Address  25598 non-null  object \n",
      " 5   City            25585 non-null  object \n",
      " 6   State/Province  25600 non-null  object \n",
      " 7   Country         25600 non-null  object \n",
      " 8   Postcode        24078 non-null  object \n",
      " 9   Phone Number    18739 non-null  object \n",
      " 10  Timezone        25600 non-null  object \n",
      " 11  Longitude       25599 non-null  float64\n",
      " 12  Latitude        25599 non-null  float64\n",
      "dtypes: float64(2), object(11)\n",
      "memory usage: 2.5+ MB\n"
     ]
    }
   ],
   "source": [
    "data.info()"
   ]
  },
  {
   "cell_type": "markdown",
   "id": "f171fd01",
   "metadata": {},
   "source": [
    "#### The dataset has 11 object(strings) , and 2 float type"
   ]
  },
  {
   "cell_type": "code",
   "execution_count": 4,
   "id": "b85d0c23",
   "metadata": {},
   "outputs": [
    {
     "data": {
      "text/html": [
       "<div>\n",
       "<style scoped>\n",
       "    .dataframe tbody tr th:only-of-type {\n",
       "        vertical-align: middle;\n",
       "    }\n",
       "\n",
       "    .dataframe tbody tr th {\n",
       "        vertical-align: top;\n",
       "    }\n",
       "\n",
       "    .dataframe thead th {\n",
       "        text-align: right;\n",
       "    }\n",
       "</style>\n",
       "<table border=\"1\" class=\"dataframe\">\n",
       "  <thead>\n",
       "    <tr style=\"text-align: right;\">\n",
       "      <th></th>\n",
       "      <th>Brand</th>\n",
       "      <th>Store Number</th>\n",
       "      <th>Store Name</th>\n",
       "      <th>Ownership Type</th>\n",
       "      <th>Street Address</th>\n",
       "      <th>City</th>\n",
       "      <th>State/Province</th>\n",
       "      <th>Country</th>\n",
       "      <th>Postcode</th>\n",
       "      <th>Phone Number</th>\n",
       "      <th>Timezone</th>\n",
       "      <th>Longitude</th>\n",
       "      <th>Latitude</th>\n",
       "    </tr>\n",
       "  </thead>\n",
       "  <tbody>\n",
       "    <tr>\n",
       "      <th>0</th>\n",
       "      <td>Starbucks</td>\n",
       "      <td>47370-257954</td>\n",
       "      <td>Meritxell, 96</td>\n",
       "      <td>Licensed</td>\n",
       "      <td>Av. Meritxell, 96</td>\n",
       "      <td>Andorra la Vella</td>\n",
       "      <td>7</td>\n",
       "      <td>AD</td>\n",
       "      <td>AD500</td>\n",
       "      <td>376818720</td>\n",
       "      <td>GMT+1:00 Europe/Andorra</td>\n",
       "      <td>1.53</td>\n",
       "      <td>42.51</td>\n",
       "    </tr>\n",
       "    <tr>\n",
       "      <th>1</th>\n",
       "      <td>Starbucks</td>\n",
       "      <td>22331-212325</td>\n",
       "      <td>Ajman Drive Thru</td>\n",
       "      <td>Licensed</td>\n",
       "      <td>1 Street 69, Al Jarf</td>\n",
       "      <td>Ajman</td>\n",
       "      <td>AJ</td>\n",
       "      <td>AE</td>\n",
       "      <td>NaN</td>\n",
       "      <td>NaN</td>\n",
       "      <td>GMT+04:00 Asia/Dubai</td>\n",
       "      <td>55.47</td>\n",
       "      <td>25.42</td>\n",
       "    </tr>\n",
       "    <tr>\n",
       "      <th>2</th>\n",
       "      <td>Starbucks</td>\n",
       "      <td>47089-256771</td>\n",
       "      <td>Dana Mall</td>\n",
       "      <td>Licensed</td>\n",
       "      <td>Sheikh Khalifa Bin Zayed St.</td>\n",
       "      <td>Ajman</td>\n",
       "      <td>AJ</td>\n",
       "      <td>AE</td>\n",
       "      <td>NaN</td>\n",
       "      <td>NaN</td>\n",
       "      <td>GMT+04:00 Asia/Dubai</td>\n",
       "      <td>55.47</td>\n",
       "      <td>25.39</td>\n",
       "    </tr>\n",
       "    <tr>\n",
       "      <th>3</th>\n",
       "      <td>Starbucks</td>\n",
       "      <td>22126-218024</td>\n",
       "      <td>Twofour 54</td>\n",
       "      <td>Licensed</td>\n",
       "      <td>Al Salam Street</td>\n",
       "      <td>Abu Dhabi</td>\n",
       "      <td>AZ</td>\n",
       "      <td>AE</td>\n",
       "      <td>NaN</td>\n",
       "      <td>NaN</td>\n",
       "      <td>GMT+04:00 Asia/Dubai</td>\n",
       "      <td>54.38</td>\n",
       "      <td>24.48</td>\n",
       "    </tr>\n",
       "    <tr>\n",
       "      <th>4</th>\n",
       "      <td>Starbucks</td>\n",
       "      <td>17127-178586</td>\n",
       "      <td>Al Ain Tower</td>\n",
       "      <td>Licensed</td>\n",
       "      <td>Khaldiya Area, Abu Dhabi Island</td>\n",
       "      <td>Abu Dhabi</td>\n",
       "      <td>AZ</td>\n",
       "      <td>AE</td>\n",
       "      <td>NaN</td>\n",
       "      <td>NaN</td>\n",
       "      <td>GMT+04:00 Asia/Dubai</td>\n",
       "      <td>54.54</td>\n",
       "      <td>24.51</td>\n",
       "    </tr>\n",
       "  </tbody>\n",
       "</table>\n",
       "</div>"
      ],
      "text/plain": [
       "       Brand  Store Number        Store Name Ownership Type  \\\n",
       "0  Starbucks  47370-257954     Meritxell, 96       Licensed   \n",
       "1  Starbucks  22331-212325  Ajman Drive Thru       Licensed   \n",
       "2  Starbucks  47089-256771         Dana Mall       Licensed   \n",
       "3  Starbucks  22126-218024        Twofour 54       Licensed   \n",
       "4  Starbucks  17127-178586      Al Ain Tower       Licensed   \n",
       "\n",
       "                    Street Address              City State/Province Country  \\\n",
       "0                Av. Meritxell, 96  Andorra la Vella              7      AD   \n",
       "1             1 Street 69, Al Jarf             Ajman             AJ      AE   \n",
       "2     Sheikh Khalifa Bin Zayed St.             Ajman             AJ      AE   \n",
       "3                  Al Salam Street         Abu Dhabi             AZ      AE   \n",
       "4  Khaldiya Area, Abu Dhabi Island         Abu Dhabi             AZ      AE   \n",
       "\n",
       "  Postcode Phone Number                 Timezone  Longitude  Latitude  \n",
       "0    AD500    376818720  GMT+1:00 Europe/Andorra       1.53     42.51  \n",
       "1      NaN          NaN     GMT+04:00 Asia/Dubai      55.47     25.42  \n",
       "2      NaN          NaN     GMT+04:00 Asia/Dubai      55.47     25.39  \n",
       "3      NaN          NaN     GMT+04:00 Asia/Dubai      54.38     24.48  \n",
       "4      NaN          NaN     GMT+04:00 Asia/Dubai      54.54     24.51  "
      ]
     },
     "execution_count": 4,
     "metadata": {},
     "output_type": "execute_result"
    }
   ],
   "source": [
    "data.head()"
   ]
  },
  {
   "cell_type": "code",
   "execution_count": 5,
   "id": "5104040d",
   "metadata": {},
   "outputs": [
    {
     "data": {
      "text/html": [
       "<div>\n",
       "<style scoped>\n",
       "    .dataframe tbody tr th:only-of-type {\n",
       "        vertical-align: middle;\n",
       "    }\n",
       "\n",
       "    .dataframe tbody tr th {\n",
       "        vertical-align: top;\n",
       "    }\n",
       "\n",
       "    .dataframe thead th {\n",
       "        text-align: right;\n",
       "    }\n",
       "</style>\n",
       "<table border=\"1\" class=\"dataframe\">\n",
       "  <thead>\n",
       "    <tr style=\"text-align: right;\">\n",
       "      <th></th>\n",
       "      <th>Longitude</th>\n",
       "      <th>Latitude</th>\n",
       "    </tr>\n",
       "  </thead>\n",
       "  <tbody>\n",
       "    <tr>\n",
       "      <th>count</th>\n",
       "      <td>25599.000000</td>\n",
       "      <td>25599.000000</td>\n",
       "    </tr>\n",
       "    <tr>\n",
       "      <th>mean</th>\n",
       "      <td>-27.872234</td>\n",
       "      <td>34.793016</td>\n",
       "    </tr>\n",
       "    <tr>\n",
       "      <th>std</th>\n",
       "      <td>96.844046</td>\n",
       "      <td>13.342332</td>\n",
       "    </tr>\n",
       "    <tr>\n",
       "      <th>min</th>\n",
       "      <td>-159.460000</td>\n",
       "      <td>-46.410000</td>\n",
       "    </tr>\n",
       "    <tr>\n",
       "      <th>25%</th>\n",
       "      <td>-104.665000</td>\n",
       "      <td>31.240000</td>\n",
       "    </tr>\n",
       "    <tr>\n",
       "      <th>50%</th>\n",
       "      <td>-79.350000</td>\n",
       "      <td>36.750000</td>\n",
       "    </tr>\n",
       "    <tr>\n",
       "      <th>75%</th>\n",
       "      <td>100.630000</td>\n",
       "      <td>41.570000</td>\n",
       "    </tr>\n",
       "    <tr>\n",
       "      <th>max</th>\n",
       "      <td>176.920000</td>\n",
       "      <td>64.850000</td>\n",
       "    </tr>\n",
       "  </tbody>\n",
       "</table>\n",
       "</div>"
      ],
      "text/plain": [
       "          Longitude      Latitude\n",
       "count  25599.000000  25599.000000\n",
       "mean     -27.872234     34.793016\n",
       "std       96.844046     13.342332\n",
       "min     -159.460000    -46.410000\n",
       "25%     -104.665000     31.240000\n",
       "50%      -79.350000     36.750000\n",
       "75%      100.630000     41.570000\n",
       "max      176.920000     64.850000"
      ]
     },
     "execution_count": 5,
     "metadata": {},
     "output_type": "execute_result"
    }
   ],
   "source": [
    "data.describe()"
   ]
  },
  {
   "cell_type": "code",
   "execution_count": 6,
   "id": "d38fdfc1",
   "metadata": {},
   "outputs": [
    {
     "data": {
      "text/plain": [
       "(25600, 13)"
      ]
     },
     "execution_count": 6,
     "metadata": {},
     "output_type": "execute_result"
    }
   ],
   "source": [
    "data.shape"
   ]
  },
  {
   "cell_type": "code",
   "execution_count": 7,
   "id": "66de13ab",
   "metadata": {},
   "outputs": [
    {
     "data": {
      "text/plain": [
       "US    13608\n",
       "CN     2734\n",
       "CA     1468\n",
       "JP     1237\n",
       "KR      993\n",
       "      ...  \n",
       "CW        3\n",
       "AW        3\n",
       "MC        2\n",
       "LU        2\n",
       "AD        1\n",
       "Name: Country, Length: 73, dtype: int64"
      ]
     },
     "execution_count": 7,
     "metadata": {},
     "output_type": "execute_result"
    }
   ],
   "source": [
    "data.Country.value_counts()"
   ]
  },
  {
   "cell_type": "markdown",
   "id": "89d001d9",
   "metadata": {},
   "source": [
    "### This dataset has information of 73 countries"
   ]
  },
  {
   "cell_type": "code",
   "execution_count": 8,
   "id": "febb799f",
   "metadata": {},
   "outputs": [
    {
     "data": {
      "text/plain": [
       "CA     2821\n",
       "TX     1042\n",
       "ENG     787\n",
       "WA      757\n",
       "11      706\n",
       "       ... \n",
       "DJ        1\n",
       "65        1\n",
       "70        1\n",
       "74        1\n",
       "SA        1\n",
       "Name: State/Province, Length: 338, dtype: int64"
      ]
     },
     "execution_count": 8,
     "metadata": {},
     "output_type": "execute_result"
    }
   ],
   "source": [
    "data['State/Province'].value_counts().sort_values(ascending=False)\n"
   ]
  },
  {
   "cell_type": "markdown",
   "id": "2ed79d26",
   "metadata": {},
   "source": [
    "#### The dataset has information of 338 State/Province"
   ]
  },
  {
   "cell_type": "code",
   "execution_count": 9,
   "id": "dedd3017",
   "metadata": {},
   "outputs": [
    {
     "data": {
      "text/plain": [
       "CA    2821\n",
       "TX    1042\n",
       "WA     757\n",
       "FL     694\n",
       "NY     645\n",
       "IL     575\n",
       "AZ     488\n",
       "CO     481\n",
       "VA     432\n",
       "OH     378\n",
       "OR     359\n",
       "PA     357\n",
       "NC     338\n",
       "GA     326\n",
       "MI     283\n",
       "MA     273\n",
       "NJ     261\n",
       "MD     257\n",
       "NV     253\n",
       "IN     221\n",
       "MO     188\n",
       "MN     184\n",
       "TN     180\n",
       "WI     145\n",
       "SC     131\n",
       "CT     123\n",
       "KY     116\n",
       "UT     101\n",
       "HI      99\n",
       "KS      94\n",
       "DC      91\n",
       "IA      89\n",
       "AL      85\n",
       "LA      84\n",
       "OK      79\n",
       "NM      76\n",
       "ID      67\n",
       "NE      58\n",
       "AR      55\n",
       "AK      49\n",
       "MT      36\n",
       "MS      32\n",
       "ME      30\n",
       "NH      29\n",
       "RI      27\n",
       "SD      25\n",
       "DE      25\n",
       "WV      25\n",
       "WY      23\n",
       "ND      13\n",
       "VT       8\n",
       "Name: State/Province, dtype: int64"
      ]
     },
     "execution_count": 9,
     "metadata": {},
     "output_type": "execute_result"
    }
   ],
   "source": [
    "data.query('Country == \"US\"')['State/Province'].value_counts().sort_values(ascending=False)"
   ]
  },
  {
   "cell_type": "markdown",
   "id": "6425fdea",
   "metadata": {},
   "source": [
    "##### These are the State/Province in the Country US"
   ]
  },
  {
   "cell_type": "markdown",
   "id": "3ed9bdac",
   "metadata": {},
   "source": [
    "## Data Cleaning "
   ]
  },
  {
   "cell_type": "code",
   "execution_count": 10,
   "id": "36e58166",
   "metadata": {},
   "outputs": [
    {
     "data": {
      "text/html": [
       "<div>\n",
       "<style scoped>\n",
       "    .dataframe tbody tr th:only-of-type {\n",
       "        vertical-align: middle;\n",
       "    }\n",
       "\n",
       "    .dataframe tbody tr th {\n",
       "        vertical-align: top;\n",
       "    }\n",
       "\n",
       "    .dataframe thead th {\n",
       "        text-align: right;\n",
       "    }\n",
       "</style>\n",
       "<table border=\"1\" class=\"dataframe\">\n",
       "  <thead>\n",
       "    <tr style=\"text-align: right;\">\n",
       "      <th></th>\n",
       "      <th>Brand</th>\n",
       "      <th>Store Number</th>\n",
       "      <th>Store Name</th>\n",
       "      <th>Ownership Type</th>\n",
       "      <th>Street Address</th>\n",
       "      <th>City</th>\n",
       "      <th>State/Province</th>\n",
       "      <th>Country</th>\n",
       "      <th>Postcode</th>\n",
       "      <th>Phone Number</th>\n",
       "      <th>Timezone</th>\n",
       "      <th>Longitude</th>\n",
       "      <th>Latitude</th>\n",
       "    </tr>\n",
       "  </thead>\n",
       "  <tbody>\n",
       "    <tr>\n",
       "      <th>0</th>\n",
       "      <td>False</td>\n",
       "      <td>False</td>\n",
       "      <td>False</td>\n",
       "      <td>False</td>\n",
       "      <td>False</td>\n",
       "      <td>False</td>\n",
       "      <td>False</td>\n",
       "      <td>False</td>\n",
       "      <td>False</td>\n",
       "      <td>False</td>\n",
       "      <td>False</td>\n",
       "      <td>False</td>\n",
       "      <td>False</td>\n",
       "    </tr>\n",
       "    <tr>\n",
       "      <th>1</th>\n",
       "      <td>False</td>\n",
       "      <td>False</td>\n",
       "      <td>False</td>\n",
       "      <td>False</td>\n",
       "      <td>False</td>\n",
       "      <td>False</td>\n",
       "      <td>False</td>\n",
       "      <td>False</td>\n",
       "      <td>True</td>\n",
       "      <td>True</td>\n",
       "      <td>False</td>\n",
       "      <td>False</td>\n",
       "      <td>False</td>\n",
       "    </tr>\n",
       "    <tr>\n",
       "      <th>2</th>\n",
       "      <td>False</td>\n",
       "      <td>False</td>\n",
       "      <td>False</td>\n",
       "      <td>False</td>\n",
       "      <td>False</td>\n",
       "      <td>False</td>\n",
       "      <td>False</td>\n",
       "      <td>False</td>\n",
       "      <td>True</td>\n",
       "      <td>True</td>\n",
       "      <td>False</td>\n",
       "      <td>False</td>\n",
       "      <td>False</td>\n",
       "    </tr>\n",
       "    <tr>\n",
       "      <th>3</th>\n",
       "      <td>False</td>\n",
       "      <td>False</td>\n",
       "      <td>False</td>\n",
       "      <td>False</td>\n",
       "      <td>False</td>\n",
       "      <td>False</td>\n",
       "      <td>False</td>\n",
       "      <td>False</td>\n",
       "      <td>True</td>\n",
       "      <td>True</td>\n",
       "      <td>False</td>\n",
       "      <td>False</td>\n",
       "      <td>False</td>\n",
       "    </tr>\n",
       "    <tr>\n",
       "      <th>4</th>\n",
       "      <td>False</td>\n",
       "      <td>False</td>\n",
       "      <td>False</td>\n",
       "      <td>False</td>\n",
       "      <td>False</td>\n",
       "      <td>False</td>\n",
       "      <td>False</td>\n",
       "      <td>False</td>\n",
       "      <td>True</td>\n",
       "      <td>True</td>\n",
       "      <td>False</td>\n",
       "      <td>False</td>\n",
       "      <td>False</td>\n",
       "    </tr>\n",
       "    <tr>\n",
       "      <th>...</th>\n",
       "      <td>...</td>\n",
       "      <td>...</td>\n",
       "      <td>...</td>\n",
       "      <td>...</td>\n",
       "      <td>...</td>\n",
       "      <td>...</td>\n",
       "      <td>...</td>\n",
       "      <td>...</td>\n",
       "      <td>...</td>\n",
       "      <td>...</td>\n",
       "      <td>...</td>\n",
       "      <td>...</td>\n",
       "      <td>...</td>\n",
       "    </tr>\n",
       "    <tr>\n",
       "      <th>25595</th>\n",
       "      <td>False</td>\n",
       "      <td>False</td>\n",
       "      <td>False</td>\n",
       "      <td>False</td>\n",
       "      <td>False</td>\n",
       "      <td>False</td>\n",
       "      <td>False</td>\n",
       "      <td>False</td>\n",
       "      <td>False</td>\n",
       "      <td>False</td>\n",
       "      <td>False</td>\n",
       "      <td>False</td>\n",
       "      <td>False</td>\n",
       "    </tr>\n",
       "    <tr>\n",
       "      <th>25596</th>\n",
       "      <td>False</td>\n",
       "      <td>False</td>\n",
       "      <td>False</td>\n",
       "      <td>False</td>\n",
       "      <td>False</td>\n",
       "      <td>False</td>\n",
       "      <td>False</td>\n",
       "      <td>False</td>\n",
       "      <td>False</td>\n",
       "      <td>False</td>\n",
       "      <td>False</td>\n",
       "      <td>False</td>\n",
       "      <td>False</td>\n",
       "    </tr>\n",
       "    <tr>\n",
       "      <th>25597</th>\n",
       "      <td>False</td>\n",
       "      <td>False</td>\n",
       "      <td>False</td>\n",
       "      <td>False</td>\n",
       "      <td>False</td>\n",
       "      <td>False</td>\n",
       "      <td>False</td>\n",
       "      <td>False</td>\n",
       "      <td>False</td>\n",
       "      <td>False</td>\n",
       "      <td>False</td>\n",
       "      <td>False</td>\n",
       "      <td>False</td>\n",
       "    </tr>\n",
       "    <tr>\n",
       "      <th>25598</th>\n",
       "      <td>False</td>\n",
       "      <td>False</td>\n",
       "      <td>False</td>\n",
       "      <td>False</td>\n",
       "      <td>False</td>\n",
       "      <td>False</td>\n",
       "      <td>False</td>\n",
       "      <td>False</td>\n",
       "      <td>False</td>\n",
       "      <td>True</td>\n",
       "      <td>False</td>\n",
       "      <td>False</td>\n",
       "      <td>False</td>\n",
       "    </tr>\n",
       "    <tr>\n",
       "      <th>25599</th>\n",
       "      <td>False</td>\n",
       "      <td>False</td>\n",
       "      <td>False</td>\n",
       "      <td>False</td>\n",
       "      <td>False</td>\n",
       "      <td>False</td>\n",
       "      <td>False</td>\n",
       "      <td>False</td>\n",
       "      <td>False</td>\n",
       "      <td>False</td>\n",
       "      <td>False</td>\n",
       "      <td>False</td>\n",
       "      <td>False</td>\n",
       "    </tr>\n",
       "  </tbody>\n",
       "</table>\n",
       "<p>25600 rows × 13 columns</p>\n",
       "</div>"
      ],
      "text/plain": [
       "       Brand  Store Number  Store Name  Ownership Type  Street Address   City  \\\n",
       "0      False         False       False           False           False  False   \n",
       "1      False         False       False           False           False  False   \n",
       "2      False         False       False           False           False  False   \n",
       "3      False         False       False           False           False  False   \n",
       "4      False         False       False           False           False  False   \n",
       "...      ...           ...         ...             ...             ...    ...   \n",
       "25595  False         False       False           False           False  False   \n",
       "25596  False         False       False           False           False  False   \n",
       "25597  False         False       False           False           False  False   \n",
       "25598  False         False       False           False           False  False   \n",
       "25599  False         False       False           False           False  False   \n",
       "\n",
       "       State/Province  Country  Postcode  Phone Number  Timezone  Longitude  \\\n",
       "0               False    False     False         False     False      False   \n",
       "1               False    False      True          True     False      False   \n",
       "2               False    False      True          True     False      False   \n",
       "3               False    False      True          True     False      False   \n",
       "4               False    False      True          True     False      False   \n",
       "...               ...      ...       ...           ...       ...        ...   \n",
       "25595           False    False     False         False     False      False   \n",
       "25596           False    False     False         False     False      False   \n",
       "25597           False    False     False         False     False      False   \n",
       "25598           False    False     False          True     False      False   \n",
       "25599           False    False     False         False     False      False   \n",
       "\n",
       "       Latitude  \n",
       "0         False  \n",
       "1         False  \n",
       "2         False  \n",
       "3         False  \n",
       "4         False  \n",
       "...         ...  \n",
       "25595     False  \n",
       "25596     False  \n",
       "25597     False  \n",
       "25598     False  \n",
       "25599     False  \n",
       "\n",
       "[25600 rows x 13 columns]"
      ]
     },
     "execution_count": 10,
     "metadata": {},
     "output_type": "execute_result"
    }
   ],
   "source": [
    "data.isnull()"
   ]
  },
  {
   "cell_type": "code",
   "execution_count": 11,
   "id": "85768c67",
   "metadata": {
    "scrolled": true
   },
   "outputs": [
    {
     "data": {
      "text/plain": [
       "Brand                0\n",
       "Store Number         0\n",
       "Store Name           0\n",
       "Ownership Type       0\n",
       "Street Address       2\n",
       "City                15\n",
       "State/Province       0\n",
       "Country              0\n",
       "Postcode          1522\n",
       "Phone Number      6861\n",
       "Timezone             0\n",
       "Longitude            1\n",
       "Latitude             1\n",
       "dtype: int64"
      ]
     },
     "execution_count": 11,
     "metadata": {},
     "output_type": "execute_result"
    }
   ],
   "source": [
    "data.isnull().sum()"
   ]
  },
  {
   "cell_type": "markdown",
   "id": "fa4b4604",
   "metadata": {},
   "source": [
    "#### Here we can see some null values in the data set and we need to remove the null values and also lets check the percentage of null values in the data set "
   ]
  },
  {
   "cell_type": "code",
   "execution_count": 12,
   "id": "7f3e0031",
   "metadata": {},
   "outputs": [
    {
     "data": {
      "text/plain": [
       "Brand              0.000000\n",
       "Store Number       0.000000\n",
       "Store Name         0.000000\n",
       "Ownership Type     0.000000\n",
       "Street Address     0.007812\n",
       "City               0.058594\n",
       "State/Province     0.000000\n",
       "Country            0.000000\n",
       "Postcode           5.945312\n",
       "Phone Number      26.800781\n",
       "Timezone           0.000000\n",
       "Longitude          0.003906\n",
       "Latitude           0.003906\n",
       "dtype: float64"
      ]
     },
     "execution_count": 12,
     "metadata": {},
     "output_type": "execute_result"
    }
   ],
   "source": [
    "data.isnull().sum()/data.shape[0]*100"
   ]
  },
  {
   "cell_type": "markdown",
   "id": "aeeff665",
   "metadata": {},
   "source": [
    "#### We can see that the percentage of null values is more in the segment of phone number and slightly more in segment of post code comparing with other null values "
   ]
  },
  {
   "cell_type": "code",
   "execution_count": 13,
   "id": "f3e3199b",
   "metadata": {},
   "outputs": [],
   "source": [
    "df = data.dropna()"
   ]
  },
  {
   "cell_type": "code",
   "execution_count": 14,
   "id": "333fc2cb",
   "metadata": {},
   "outputs": [
    {
     "data": {
      "text/plain": [
       "Brand             0\n",
       "Store Number      0\n",
       "Store Name        0\n",
       "Ownership Type    0\n",
       "Street Address    0\n",
       "City              0\n",
       "State/Province    0\n",
       "Country           0\n",
       "Postcode          0\n",
       "Phone Number      0\n",
       "Timezone          0\n",
       "Longitude         0\n",
       "Latitude          0\n",
       "dtype: int64"
      ]
     },
     "execution_count": 14,
     "metadata": {},
     "output_type": "execute_result"
    }
   ],
   "source": [
    "df.isnull().sum()"
   ]
  },
  {
   "cell_type": "markdown",
   "id": "95d094b7",
   "metadata": {},
   "source": [
    "### Here we can see that there are no more null values .The null values are droped from the data set"
   ]
  },
  {
   "cell_type": "code",
   "execution_count": 15,
   "id": "050129bc",
   "metadata": {
    "scrolled": true
   },
   "outputs": [
    {
     "name": "stdout",
     "output_type": "stream",
     "text": [
      "<class 'pandas.core.frame.DataFrame'>\n",
      "RangeIndex: 25600 entries, 0 to 25599\n",
      "Data columns (total 13 columns):\n",
      " #   Column          Non-Null Count  Dtype  \n",
      "---  ------          --------------  -----  \n",
      " 0   Brand           25600 non-null  object \n",
      " 1   Store Number    25600 non-null  object \n",
      " 2   Store Name      25600 non-null  object \n",
      " 3   Ownership Type  25600 non-null  object \n",
      " 4   Street Address  25598 non-null  object \n",
      " 5   City            25585 non-null  object \n",
      " 6   State/Province  25600 non-null  object \n",
      " 7   Country         25600 non-null  object \n",
      " 8   Postcode        24078 non-null  object \n",
      " 9   Phone Number    18739 non-null  object \n",
      " 10  Timezone        25600 non-null  object \n",
      " 11  Longitude       25599 non-null  float64\n",
      " 12  Latitude        25599 non-null  float64\n",
      "dtypes: float64(2), object(11)\n",
      "memory usage: 2.5+ MB\n"
     ]
    }
   ],
   "source": [
    "data.info()"
   ]
  },
  {
   "cell_type": "markdown",
   "id": "65d04334",
   "metadata": {},
   "source": [
    "#  Data Analysis "
   ]
  },
  {
   "cell_type": "code",
   "execution_count": 16,
   "id": "55615f6d",
   "metadata": {},
   "outputs": [
    {
     "data": {
      "text/html": [
       "<div>\n",
       "<style scoped>\n",
       "    .dataframe tbody tr th:only-of-type {\n",
       "        vertical-align: middle;\n",
       "    }\n",
       "\n",
       "    .dataframe tbody tr th {\n",
       "        vertical-align: top;\n",
       "    }\n",
       "\n",
       "    .dataframe thead th {\n",
       "        text-align: right;\n",
       "    }\n",
       "</style>\n",
       "<table border=\"1\" class=\"dataframe\">\n",
       "  <thead>\n",
       "    <tr style=\"text-align: right;\">\n",
       "      <th></th>\n",
       "      <th>Brand</th>\n",
       "      <th>Store Number</th>\n",
       "      <th>Store Name</th>\n",
       "      <th>Ownership Type</th>\n",
       "      <th>Street Address</th>\n",
       "      <th>City</th>\n",
       "      <th>State/Province</th>\n",
       "      <th>Country</th>\n",
       "      <th>Postcode</th>\n",
       "      <th>Phone Number</th>\n",
       "      <th>Timezone</th>\n",
       "      <th>Longitude</th>\n",
       "      <th>Latitude</th>\n",
       "    </tr>\n",
       "  </thead>\n",
       "  <tbody>\n",
       "    <tr>\n",
       "      <th>0</th>\n",
       "      <td>Starbucks</td>\n",
       "      <td>47370-257954</td>\n",
       "      <td>Meritxell, 96</td>\n",
       "      <td>Licensed</td>\n",
       "      <td>Av. Meritxell, 96</td>\n",
       "      <td>Andorra la Vella</td>\n",
       "      <td>7</td>\n",
       "      <td>AD</td>\n",
       "      <td>AD500</td>\n",
       "      <td>376818720</td>\n",
       "      <td>GMT+1:00 Europe/Andorra</td>\n",
       "      <td>1.53</td>\n",
       "      <td>42.51</td>\n",
       "    </tr>\n",
       "    <tr>\n",
       "      <th>1</th>\n",
       "      <td>Starbucks</td>\n",
       "      <td>22331-212325</td>\n",
       "      <td>Ajman Drive Thru</td>\n",
       "      <td>Licensed</td>\n",
       "      <td>1 Street 69, Al Jarf</td>\n",
       "      <td>Ajman</td>\n",
       "      <td>AJ</td>\n",
       "      <td>AE</td>\n",
       "      <td>NaN</td>\n",
       "      <td>NaN</td>\n",
       "      <td>GMT+04:00 Asia/Dubai</td>\n",
       "      <td>55.47</td>\n",
       "      <td>25.42</td>\n",
       "    </tr>\n",
       "    <tr>\n",
       "      <th>2</th>\n",
       "      <td>Starbucks</td>\n",
       "      <td>47089-256771</td>\n",
       "      <td>Dana Mall</td>\n",
       "      <td>Licensed</td>\n",
       "      <td>Sheikh Khalifa Bin Zayed St.</td>\n",
       "      <td>Ajman</td>\n",
       "      <td>AJ</td>\n",
       "      <td>AE</td>\n",
       "      <td>NaN</td>\n",
       "      <td>NaN</td>\n",
       "      <td>GMT+04:00 Asia/Dubai</td>\n",
       "      <td>55.47</td>\n",
       "      <td>25.39</td>\n",
       "    </tr>\n",
       "    <tr>\n",
       "      <th>3</th>\n",
       "      <td>Starbucks</td>\n",
       "      <td>22126-218024</td>\n",
       "      <td>Twofour 54</td>\n",
       "      <td>Licensed</td>\n",
       "      <td>Al Salam Street</td>\n",
       "      <td>Abu Dhabi</td>\n",
       "      <td>AZ</td>\n",
       "      <td>AE</td>\n",
       "      <td>NaN</td>\n",
       "      <td>NaN</td>\n",
       "      <td>GMT+04:00 Asia/Dubai</td>\n",
       "      <td>54.38</td>\n",
       "      <td>24.48</td>\n",
       "    </tr>\n",
       "    <tr>\n",
       "      <th>4</th>\n",
       "      <td>Starbucks</td>\n",
       "      <td>17127-178586</td>\n",
       "      <td>Al Ain Tower</td>\n",
       "      <td>Licensed</td>\n",
       "      <td>Khaldiya Area, Abu Dhabi Island</td>\n",
       "      <td>Abu Dhabi</td>\n",
       "      <td>AZ</td>\n",
       "      <td>AE</td>\n",
       "      <td>NaN</td>\n",
       "      <td>NaN</td>\n",
       "      <td>GMT+04:00 Asia/Dubai</td>\n",
       "      <td>54.54</td>\n",
       "      <td>24.51</td>\n",
       "    </tr>\n",
       "  </tbody>\n",
       "</table>\n",
       "</div>"
      ],
      "text/plain": [
       "       Brand  Store Number        Store Name Ownership Type  \\\n",
       "0  Starbucks  47370-257954     Meritxell, 96       Licensed   \n",
       "1  Starbucks  22331-212325  Ajman Drive Thru       Licensed   \n",
       "2  Starbucks  47089-256771         Dana Mall       Licensed   \n",
       "3  Starbucks  22126-218024        Twofour 54       Licensed   \n",
       "4  Starbucks  17127-178586      Al Ain Tower       Licensed   \n",
       "\n",
       "                    Street Address              City State/Province Country  \\\n",
       "0                Av. Meritxell, 96  Andorra la Vella              7      AD   \n",
       "1             1 Street 69, Al Jarf             Ajman             AJ      AE   \n",
       "2     Sheikh Khalifa Bin Zayed St.             Ajman             AJ      AE   \n",
       "3                  Al Salam Street         Abu Dhabi             AZ      AE   \n",
       "4  Khaldiya Area, Abu Dhabi Island         Abu Dhabi             AZ      AE   \n",
       "\n",
       "  Postcode Phone Number                 Timezone  Longitude  Latitude  \n",
       "0    AD500    376818720  GMT+1:00 Europe/Andorra       1.53     42.51  \n",
       "1      NaN          NaN     GMT+04:00 Asia/Dubai      55.47     25.42  \n",
       "2      NaN          NaN     GMT+04:00 Asia/Dubai      55.47     25.39  \n",
       "3      NaN          NaN     GMT+04:00 Asia/Dubai      54.38     24.48  \n",
       "4      NaN          NaN     GMT+04:00 Asia/Dubai      54.54     24.51  "
      ]
     },
     "execution_count": 16,
     "metadata": {},
     "output_type": "execute_result"
    }
   ],
   "source": [
    "data.head()"
   ]
  },
  {
   "cell_type": "code",
   "execution_count": 17,
   "id": "b8331729",
   "metadata": {},
   "outputs": [
    {
     "data": {
      "text/html": [
       "<div>\n",
       "<style scoped>\n",
       "    .dataframe tbody tr th:only-of-type {\n",
       "        vertical-align: middle;\n",
       "    }\n",
       "\n",
       "    .dataframe tbody tr th {\n",
       "        vertical-align: top;\n",
       "    }\n",
       "\n",
       "    .dataframe thead th {\n",
       "        text-align: right;\n",
       "    }\n",
       "</style>\n",
       "<table border=\"1\" class=\"dataframe\">\n",
       "  <thead>\n",
       "    <tr style=\"text-align: right;\">\n",
       "      <th></th>\n",
       "      <th>Longitude</th>\n",
       "      <th>Latitude</th>\n",
       "    </tr>\n",
       "  </thead>\n",
       "  <tbody>\n",
       "    <tr>\n",
       "      <th>count</th>\n",
       "      <td>25599.000000</td>\n",
       "      <td>25599.000000</td>\n",
       "    </tr>\n",
       "    <tr>\n",
       "      <th>mean</th>\n",
       "      <td>-27.872234</td>\n",
       "      <td>34.793016</td>\n",
       "    </tr>\n",
       "    <tr>\n",
       "      <th>std</th>\n",
       "      <td>96.844046</td>\n",
       "      <td>13.342332</td>\n",
       "    </tr>\n",
       "    <tr>\n",
       "      <th>min</th>\n",
       "      <td>-159.460000</td>\n",
       "      <td>-46.410000</td>\n",
       "    </tr>\n",
       "    <tr>\n",
       "      <th>25%</th>\n",
       "      <td>-104.665000</td>\n",
       "      <td>31.240000</td>\n",
       "    </tr>\n",
       "    <tr>\n",
       "      <th>50%</th>\n",
       "      <td>-79.350000</td>\n",
       "      <td>36.750000</td>\n",
       "    </tr>\n",
       "    <tr>\n",
       "      <th>75%</th>\n",
       "      <td>100.630000</td>\n",
       "      <td>41.570000</td>\n",
       "    </tr>\n",
       "    <tr>\n",
       "      <th>max</th>\n",
       "      <td>176.920000</td>\n",
       "      <td>64.850000</td>\n",
       "    </tr>\n",
       "  </tbody>\n",
       "</table>\n",
       "</div>"
      ],
      "text/plain": [
       "          Longitude      Latitude\n",
       "count  25599.000000  25599.000000\n",
       "mean     -27.872234     34.793016\n",
       "std       96.844046     13.342332\n",
       "min     -159.460000    -46.410000\n",
       "25%     -104.665000     31.240000\n",
       "50%      -79.350000     36.750000\n",
       "75%      100.630000     41.570000\n",
       "max      176.920000     64.850000"
      ]
     },
     "execution_count": 17,
     "metadata": {},
     "output_type": "execute_result"
    }
   ],
   "source": [
    "data.describe()"
   ]
  },
  {
   "cell_type": "code",
   "execution_count": 18,
   "id": "670e91a4",
   "metadata": {},
   "outputs": [
    {
     "data": {
      "text/plain": [
       "4"
      ]
     },
     "execution_count": 18,
     "metadata": {},
     "output_type": "execute_result"
    }
   ],
   "source": [
    "# checking for the number of brands presnet in the dataset\n",
    "len(data.Brand.unique())"
   ]
  },
  {
   "cell_type": "code",
   "execution_count": 19,
   "id": "e58e4986",
   "metadata": {},
   "outputs": [
    {
     "name": "stdout",
     "output_type": "stream",
     "text": [
      "['Starbucks' 'Teavana' 'Evolution Fresh' 'Coffee House Holdings']\n"
     ]
    }
   ],
   "source": [
    "#PRINTING THE NAMES OF BRANDS \n",
    "print(data.Brand.unique())"
   ]
  },
  {
   "cell_type": "markdown",
   "id": "aea57591",
   "metadata": {},
   "source": [
    "### The dataset has 4 Brands "
   ]
  },
  {
   "cell_type": "code",
   "execution_count": 20,
   "id": "e3684c28",
   "metadata": {},
   "outputs": [
    {
     "data": {
      "text/plain": [
       "5470"
      ]
     },
     "execution_count": 20,
     "metadata": {},
     "output_type": "execute_result"
    }
   ],
   "source": [
    "# CHECKING HOW MANY Cities  ARE THERE IN THE DATASET AFTER CLEANING THE DATASET\n",
    "len(data.City.unique())"
   ]
  },
  {
   "cell_type": "code",
   "execution_count": 21,
   "id": "dcc7cd3c",
   "metadata": {},
   "outputs": [
    {
     "data": {
      "text/plain": [
       "array(['Andorra la Vella', 'Ajman', 'Abu Dhabi', ..., 'Johannesburg',\n",
       "       'Menlyn', 'Midrand'], dtype=object)"
      ]
     },
     "execution_count": 21,
     "metadata": {},
     "output_type": "execute_result"
    }
   ],
   "source": [
    "data.City.unique()"
   ]
  },
  {
   "cell_type": "markdown",
   "id": "e35dcc07",
   "metadata": {},
   "source": [
    "#### The Data set has information of 5470 Cities "
   ]
  },
  {
   "cell_type": "code",
   "execution_count": 22,
   "id": "ea8cfaaf",
   "metadata": {},
   "outputs": [
    {
     "data": {
      "text/plain": [
       "Starbucks                25249\n",
       "Teavana                    348\n",
       "Evolution Fresh              2\n",
       "Coffee House Holdings        1\n",
       "Name: Brand, dtype: int64"
      ]
     },
     "execution_count": 22,
     "metadata": {},
     "output_type": "execute_result"
    }
   ],
   "source": [
    "data.Brand.value_counts()"
   ]
  },
  {
   "cell_type": "markdown",
   "id": "eea82d7a",
   "metadata": {},
   "source": [
    "#### The most no.of stores are present under the Brand Starbucks"
   ]
  },
  {
   "cell_type": "code",
   "execution_count": 23,
   "id": "b724c4ac",
   "metadata": {},
   "outputs": [
    {
     "data": {
      "image/png": "[encoded data removed]",
      "text/plain": [
       "<Figure size 720x720 with 1 Axes>"
      ]
     },
     "metadata": {
      "needs_background": "light"
     },
     "output_type": "display_data"
    }
   ],
   "source": [
    "data['Brand'].value_counts().plot(kind = 'bar',color=\"Green\",figsize=(10,10))\n",
    "plt.xlabel(\"Brand\",fontdict={'fontsize':12,'fontweight':3,'color':'Blue'})\n",
    "plt.ylabel(\"No.of Stores\",fontdict={'fontsize':12,'fontweight':3,'color':'Blue'})\n",
    "plt.show()"
   ]
  },
  {
   "cell_type": "markdown",
   "id": "b6e4c59a",
   "metadata": {},
   "source": [
    "#### The above graph shows that the most no.of stores are under Starbucks "
   ]
  },
  {
   "cell_type": "code",
   "execution_count": 24,
   "id": "cf34ede4",
   "metadata": {},
   "outputs": [
    {
     "data": {
      "image/png": "[encoded data removed]",
      "text/plain": [
       "<Figure size 1080x504 with 1 Axes>"
      ]
     },
     "metadata": {
      "needs_background": "light"
     },
     "output_type": "display_data"
    }
   ],
   "source": [
    "# the above bar graph shows no.of brands and now lets see how many stores are there in latitude region. \n",
    "data.groupby('Brand')[\"Latitude\"].mean().plot(kind = \"bar\",figsize=(15,7))\n",
    "plt.ylabel(\"No.of Stores\")\n",
    "plt.show()"
   ]
  },
  {
   "cell_type": "markdown",
   "id": "74bb15a1",
   "metadata": {},
   "source": [
    "###### The Evolution Fresh brand has more stores in the Latitude Region."
   ]
  },
  {
   "cell_type": "code",
   "execution_count": 25,
   "id": "99e32402",
   "metadata": {},
   "outputs": [
    {
     "data": {
      "image/png": "[encoded data removed]",
      "text/plain": [
       "<Figure size 360x360 with 2 Axes>"
      ]
     },
     "metadata": {
      "needs_background": "light"
     },
     "output_type": "display_data"
    }
   ],
   "source": [
    "fig = plt.figure(figsize = (5,5))\n",
    "sns.heatmap(data.corr(),annot=True,cmap=\"Blues\")\n",
    "plt.show()"
   ]
  },
  {
   "cell_type": "markdown",
   "id": "a8682c9e",
   "metadata": {},
   "source": [
    "#### The correlation value  between Latitude and Longitude is equal to 1."
   ]
  },
  {
   "cell_type": "code",
   "execution_count": 26,
   "id": "6d2a5850",
   "metadata": {},
   "outputs": [
    {
     "name": "stderr",
     "output_type": "stream",
     "text": [
      "C:\\Users\\vamsh\\anaconda3\\lib\\site-packages\\seaborn\\distributions.py:2619: FutureWarning: `distplot` is a deprecated function and will be removed in a future version. Please adapt your code to use either `displot` (a figure-level function with similar flexibility) or `histplot` (an axes-level function for histograms).\n",
      "  warnings.warn(msg, FutureWarning)\n"
     ]
    },
    {
     "data": {
      "image/png": "[encoded data removed]",
      "text/plain": [
       "<Figure size 504x576 with 1 Axes>"
      ]
     },
     "metadata": {},
     "output_type": "display_data"
    }
   ],
   "source": [
    "sns.set(rc={'figure.figsize':(7,8)})\n",
    "sns.distplot(data.Longitude,bins=2)\n",
    "plt.show()"
   ]
  },
  {
   "cell_type": "markdown",
   "id": "67fc025a",
   "metadata": {},
   "source": [
    "##### The Density of stores in the longitude region is more in at (-100,0.010)"
   ]
  },
  {
   "cell_type": "code",
   "execution_count": 27,
   "id": "aeb13cef",
   "metadata": {},
   "outputs": [
    {
     "data": {
      "text/html": [
       "<div>\n",
       "<style scoped>\n",
       "    .dataframe tbody tr th:only-of-type {\n",
       "        vertical-align: middle;\n",
       "    }\n",
       "\n",
       "    .dataframe tbody tr th {\n",
       "        vertical-align: top;\n",
       "    }\n",
       "\n",
       "    .dataframe thead th {\n",
       "        text-align: right;\n",
       "    }\n",
       "</style>\n",
       "<table border=\"1\" class=\"dataframe\">\n",
       "  <thead>\n",
       "    <tr style=\"text-align: right;\">\n",
       "      <th></th>\n",
       "      <th>Brand</th>\n",
       "      <th>Store Number</th>\n",
       "      <th>Store Name</th>\n",
       "      <th>Ownership Type</th>\n",
       "      <th>Street Address</th>\n",
       "      <th>City</th>\n",
       "      <th>State/Province</th>\n",
       "      <th>Country</th>\n",
       "      <th>Postcode</th>\n",
       "      <th>Phone Number</th>\n",
       "      <th>Timezone</th>\n",
       "    </tr>\n",
       "  </thead>\n",
       "  <tbody>\n",
       "    <tr>\n",
       "      <th>count</th>\n",
       "      <td>25600</td>\n",
       "      <td>25600</td>\n",
       "      <td>25600</td>\n",
       "      <td>25600</td>\n",
       "      <td>25598</td>\n",
       "      <td>25585</td>\n",
       "      <td>25600</td>\n",
       "      <td>25600</td>\n",
       "      <td>24078</td>\n",
       "      <td>18739</td>\n",
       "      <td>25600</td>\n",
       "    </tr>\n",
       "    <tr>\n",
       "      <th>unique</th>\n",
       "      <td>4</td>\n",
       "      <td>25599</td>\n",
       "      <td>25364</td>\n",
       "      <td>4</td>\n",
       "      <td>25353</td>\n",
       "      <td>5469</td>\n",
       "      <td>338</td>\n",
       "      <td>73</td>\n",
       "      <td>18887</td>\n",
       "      <td>18559</td>\n",
       "      <td>101</td>\n",
       "    </tr>\n",
       "    <tr>\n",
       "      <th>top</th>\n",
       "      <td>Starbucks</td>\n",
       "      <td>19773-160973</td>\n",
       "      <td>Starbucks</td>\n",
       "      <td>Company Owned</td>\n",
       "      <td>Circular Building #6, Guard Post 8</td>\n",
       "      <td>上海市</td>\n",
       "      <td>CA</td>\n",
       "      <td>US</td>\n",
       "      <td>0</td>\n",
       "      <td>773-686-6180</td>\n",
       "      <td>GMT-05:00 America/New_York</td>\n",
       "    </tr>\n",
       "    <tr>\n",
       "      <th>freq</th>\n",
       "      <td>25249</td>\n",
       "      <td>2</td>\n",
       "      <td>224</td>\n",
       "      <td>11932</td>\n",
       "      <td>11</td>\n",
       "      <td>542</td>\n",
       "      <td>2821</td>\n",
       "      <td>13608</td>\n",
       "      <td>101</td>\n",
       "      <td>17</td>\n",
       "      <td>4889</td>\n",
       "    </tr>\n",
       "  </tbody>\n",
       "</table>\n",
       "</div>"
      ],
      "text/plain": [
       "            Brand  Store Number Store Name Ownership Type  \\\n",
       "count       25600         25600      25600          25600   \n",
       "unique          4         25599      25364              4   \n",
       "top     Starbucks  19773-160973  Starbucks  Company Owned   \n",
       "freq        25249             2        224          11932   \n",
       "\n",
       "                            Street Address   City State/Province Country  \\\n",
       "count                                25598  25585          25600   25600   \n",
       "unique                               25353   5469            338      73   \n",
       "top     Circular Building #6, Guard Post 8    上海市             CA      US   \n",
       "freq                                    11    542           2821   13608   \n",
       "\n",
       "       Postcode  Phone Number                    Timezone  \n",
       "count     24078         18739                       25600  \n",
       "unique    18887         18559                         101  \n",
       "top           0  773-686-6180  GMT-05:00 America/New_York  \n",
       "freq        101            17                        4889  "
      ]
     },
     "execution_count": 27,
     "metadata": {},
     "output_type": "execute_result"
    }
   ],
   "source": [
    "# CATEGORICAL FEATURES\n",
    "data.describe(include='object')"
   ]
  },
  {
   "cell_type": "code",
   "execution_count": 28,
   "id": "61e18604",
   "metadata": {},
   "outputs": [
    {
     "data": {
      "image/png": "[encoded data removed]",
      "text/plain": [
       "<Figure size 1152x576 with 2 Axes>"
      ]
     },
     "metadata": {},
     "output_type": "display_data"
    }
   ],
   "source": [
    "# 1. COUNT PLOT\n",
    "cols = 4\n",
    "rows = 1\n",
    "fig = plt.figure(figsize= (16,8))\n",
    "all_categs = data.select_dtypes(include='object')\n",
    "cat_cols = all_categs.columns[all_categs.nunique() < 10]\n",
    "for i, col in enumerate(cat_cols):\n",
    "    \n",
    "    ax=fig.add_subplot(rows, cols, i+1)\n",
    "    \n",
    "    sns.countplot(x=data[col], ax=ax)\n",
    "    \n",
    "    plt.xticks(rotation=45, ha='right')\n",
    "    \n",
    "fig.tight_layout()  \n",
    "plt.show()"
   ]
  },
  {
   "cell_type": "markdown",
   "id": "8511e23e",
   "metadata": {},
   "source": [
    "#### Here above graphs shows that the Brand Starbucks has the ownership type is licensed type and the highest company owned brand is Evolution French and Coffee house Holdings are having Franchise type ownership type."
   ]
  },
  {
   "cell_type": "code",
   "execution_count": 29,
   "id": "f84dc06d",
   "metadata": {},
   "outputs": [
    {
     "data": {
      "image/png": "[encoded data removed]",
      "text/plain": [
       "<Figure size 1440x720 with 1 Axes>"
      ]
     },
     "metadata": {},
     "output_type": "display_data"
    }
   ],
   "source": [
    "#lets see the store locations based on Longitudes \n",
    "data.groupby('Brand').mean()['Longitude'].plot(kind='line',figsize=(20,10))\n",
    "plt.ylabel(\"Avg.Stores\")\n",
    "plt.title(\"Avg. of stores located by brands \")\n",
    "plt.show()"
   ]
  },
  {
   "cell_type": "markdown",
   "id": "7133b9d7",
   "metadata": {},
   "source": [
    "#### The above graph shows that the stores of Starbucks are located more in the negative region (western hemisphere)"
   ]
  },
  {
   "cell_type": "markdown",
   "id": "ce50b6fc",
   "metadata": {},
   "source": [
    "### Now lets check the no.of stores located in different countries "
   ]
  },
  {
   "cell_type": "code",
   "execution_count": 30,
   "id": "d6aa492f",
   "metadata": {
    "scrolled": false
   },
   "outputs": [
    {
     "data": {
      "image/png": "[encoded data removed]",
      "text/plain": [
       "<Figure size 1440x1080 with 1 Axes>"
      ]
     },
     "metadata": {},
     "output_type": "display_data"
    }
   ],
   "source": [
    "data['Country'].value_counts().plot(kind = \"bar\",figsize=(20,15))\n",
    "plt.xlabel(\"Country\",fontdict={'fontsize':15,'fontweight':3,'color':'Blue'})\n",
    "plt.ylabel(\"No.Of stores\",fontdict={'fontsize':12,'fontweight':3,'color':'Blue'})\n",
    "plt.title(\"No.Of Stores in Different States\")\n",
    "plt.show()"
   ]
  },
  {
   "cell_type": "code",
   "execution_count": 31,
   "id": "0f7f56ca",
   "metadata": {},
   "outputs": [
    {
     "data": {
      "text/plain": [
       "count     25600\n",
       "unique       73\n",
       "top          US\n",
       "freq      13608\n",
       "Name: Country, dtype: object"
      ]
     },
     "execution_count": 31,
     "metadata": {},
     "output_type": "execute_result"
    }
   ],
   "source": [
    "### lets do stastical analysis on countries\n",
    "data.Country.describe()"
   ]
  },
  {
   "cell_type": "markdown",
   "id": "dd95a1e6",
   "metadata": {},
   "source": [
    "#### The above graph shows that the no.of stores are more in the US Country."
   ]
  },
  {
   "cell_type": "code",
   "execution_count": 32,
   "id": "adb6ac98",
   "metadata": {},
   "outputs": [
    {
     "data": {
      "image/png": "[encoded data removed]",
      "text/plain": [
       "<Figure size 1440x720 with 1 Axes>"
      ]
     },
     "metadata": {},
     "output_type": "display_data"
    }
   ],
   "source": [
    "data.query('Country == \"US\"')['State/Province'].value_counts().plot(kind = \"bar\",figsize=(20,10))\n",
    "plt.xlabel(\"States\",fontdict={'fontsize':12,'fontweight':3,'color':'Blue'})\n",
    "plt.ylabel(\"No.Of Stores\",fontdict={'fontsize':12,'fontweight':3,'color':'Blue'})\n",
    "plt.title(\"No.Of Stores in the States of  Country US\")\n",
    "plt.show()"
   ]
  },
  {
   "cell_type": "code",
   "execution_count": 33,
   "id": "319b318b",
   "metadata": {},
   "outputs": [
    {
     "data": {
      "text/plain": [
       "count     25585\n",
       "unique     5469\n",
       "top         上海市\n",
       "freq        542\n",
       "Name: City, dtype: object"
      ]
     },
     "execution_count": 33,
     "metadata": {},
     "output_type": "execute_result"
    }
   ],
   "source": [
    "### now lets do statistical analysis of cities\n",
    "data.City.describe()"
   ]
  },
  {
   "cell_type": "markdown",
   "id": "f1cb4f40",
   "metadata": {},
   "source": [
    "#### The above graph gives us the no.of stores are more in the State CA and least in the state VT of US country"
   ]
  },
  {
   "cell_type": "code",
   "execution_count": 34,
   "id": "fbecb38c",
   "metadata": {},
   "outputs": [
    {
     "data": {
      "image/png": "[encoded data removed]",
      "text/plain": [
       "<Figure size 360x360 with 6 Axes>"
      ]
     },
     "metadata": {},
     "output_type": "display_data"
    }
   ],
   "source": [
    "df=sns.pairplot(data)\n",
    "plt.show()"
   ]
  },
  {
   "cell_type": "markdown",
   "id": "594732db",
   "metadata": {},
   "source": [
    "#### Here this shows the pairplot of the dataset with x- axis Latitude and y - axis as Longitude and it shows that the location of brands across the world are more in the region of positive ."
   ]
  },
  {
   "cell_type": "markdown",
   "id": "17758092",
   "metadata": {},
   "source": [
    "### Statistical Analysis "
   ]
  },
  {
   "cell_type": "markdown",
   "id": "30ad7b23",
   "metadata": {},
   "source": [
    "#### Stastical Analysis is done on data sets , and the analysis process can create different output types from the input data.\n",
    "#### For example , the process can give summarized data, derive key values form the input."
   ]
  },
  {
   "cell_type": "code",
   "execution_count": 36,
   "id": "d8ca7bba",
   "metadata": {},
   "outputs": [
    {
     "data": {
      "text/html": [
       "<div>\n",
       "<style scoped>\n",
       "    .dataframe tbody tr th:only-of-type {\n",
       "        vertical-align: middle;\n",
       "    }\n",
       "\n",
       "    .dataframe tbody tr th {\n",
       "        vertical-align: top;\n",
       "    }\n",
       "\n",
       "    .dataframe thead th {\n",
       "        text-align: right;\n",
       "    }\n",
       "</style>\n",
       "<table border=\"1\" class=\"dataframe\">\n",
       "  <thead>\n",
       "    <tr style=\"text-align: right;\">\n",
       "      <th></th>\n",
       "      <th>Brand</th>\n",
       "      <th>Store Number</th>\n",
       "      <th>Store Name</th>\n",
       "      <th>Ownership Type</th>\n",
       "      <th>Street Address</th>\n",
       "      <th>City</th>\n",
       "      <th>State/Province</th>\n",
       "      <th>Country</th>\n",
       "      <th>Postcode</th>\n",
       "      <th>Phone Number</th>\n",
       "      <th>Timezone</th>\n",
       "      <th>Longitude</th>\n",
       "      <th>Latitude</th>\n",
       "    </tr>\n",
       "  </thead>\n",
       "  <tbody>\n",
       "    <tr>\n",
       "      <th>0</th>\n",
       "      <td>Starbucks</td>\n",
       "      <td>19773-160973</td>\n",
       "      <td>Starbucks</td>\n",
       "      <td>Company Owned</td>\n",
       "      <td>Circular Building #6, Guard Post 8</td>\n",
       "      <td>上海市</td>\n",
       "      <td>CA</td>\n",
       "      <td>US</td>\n",
       "      <td>0</td>\n",
       "      <td>773-686-6180</td>\n",
       "      <td>GMT-05:00 America/New_York</td>\n",
       "      <td>-73.98</td>\n",
       "      <td>40.76</td>\n",
       "    </tr>\n",
       "  </tbody>\n",
       "</table>\n",
       "</div>"
      ],
      "text/plain": [
       "       Brand  Store Number Store Name Ownership Type  \\\n",
       "0  Starbucks  19773-160973  Starbucks  Company Owned   \n",
       "\n",
       "                       Street Address City State/Province Country Postcode  \\\n",
       "0  Circular Building #6, Guard Post 8  上海市             CA      US        0   \n",
       "\n",
       "   Phone Number                    Timezone  Longitude  Latitude  \n",
       "0  773-686-6180  GMT-05:00 America/New_York     -73.98     40.76  "
      ]
     },
     "execution_count": 36,
     "metadata": {},
     "output_type": "execute_result"
    }
   ],
   "source": [
    "# to find values that appared often \n",
    "data.mode()"
   ]
  },
  {
   "cell_type": "code",
   "execution_count": 37,
   "id": "dc3a2614",
   "metadata": {},
   "outputs": [
    {
     "name": "stderr",
     "output_type": "stream",
     "text": [
      "C:\\Users\\vamsh\\AppData\\Local\\Temp/ipykernel_12440/467965368.py:2: FutureWarning: Dropping of nuisance columns in DataFrame reductions (with 'numeric_only=None') is deprecated; in a future version this will raise TypeError.  Select only valid columns before calling the reduction.\n",
      "  data.std()\n"
     ]
    },
    {
     "data": {
      "text/plain": [
       "Longitude    96.844046\n",
       "Latitude     13.342332\n",
       "dtype: float64"
      ]
     },
     "execution_count": 37,
     "metadata": {},
     "output_type": "execute_result"
    }
   ],
   "source": [
    "# Standard Deviation \n",
    "data.std()"
   ]
  },
  {
   "cell_type": "code",
   "execution_count": 38,
   "id": "78e2ead4",
   "metadata": {},
   "outputs": [
    {
     "name": "stderr",
     "output_type": "stream",
     "text": [
      "C:\\Users\\vamsh\\AppData\\Local\\Temp/ipykernel_12440/2865198141.py:2: FutureWarning: Dropping of nuisance columns in DataFrame reductions (with 'numeric_only=None') is deprecated; in a future version this will raise TypeError.  Select only valid columns before calling the reduction.\n",
      "  data.var()\n"
     ]
    },
    {
     "data": {
      "text/plain": [
       "Longitude    9378.769192\n",
       "Latitude      178.017835\n",
       "dtype: float64"
      ]
     },
     "execution_count": 38,
     "metadata": {},
     "output_type": "execute_result"
    }
   ],
   "source": [
    "# Variance \n",
    "data.var()"
   ]
  },
  {
   "cell_type": "markdown",
   "id": "050a3a4b",
   "metadata": {},
   "source": [
    "###### It is one of the simplest and most popular analysis methods easy to apply to data.The mean is the average value of data used in research .In statistics  the term \"mean\"nis commnly used to indicate average.It is  calculated by adding the data values and dividing them by total number of data points.It is advised to have other methods supporting it for effective decision - making."
   ]
  },
  {
   "cell_type": "code",
   "execution_count": 39,
   "id": "65fffe4f",
   "metadata": {},
   "outputs": [
    {
     "name": "stderr",
     "output_type": "stream",
     "text": [
      "C:\\Users\\vamsh\\AppData\\Local\\Temp/ipykernel_12440/352909756.py:2: FutureWarning: Dropping of nuisance columns in DataFrame reductions (with 'numeric_only=None') is deprecated; in a future version this will raise TypeError.  Select only valid columns before calling the reduction.\n",
      "  data.mean()\n"
     ]
    },
    {
     "data": {
      "text/plain": [
       "Longitude   -27.872234\n",
       "Latitude     34.793016\n",
       "dtype: float64"
      ]
     },
     "execution_count": 39,
     "metadata": {},
     "output_type": "execute_result"
    }
   ],
   "source": [
    "# to find mean \n",
    "data.mean()"
   ]
  },
  {
   "cell_type": "code",
   "execution_count": 40,
   "id": "6db7ec4d",
   "metadata": {},
   "outputs": [
    {
     "name": "stderr",
     "output_type": "stream",
     "text": [
      "C:\\Users\\vamsh\\AppData\\Local\\Temp/ipykernel_12440/3244387956.py:2: FutureWarning: Dropping of nuisance columns in DataFrame reductions (with 'numeric_only=None') is deprecated; in a future version this will raise TypeError.  Select only valid columns before calling the reduction.\n",
      "  data.median()\n"
     ]
    },
    {
     "data": {
      "text/plain": [
       "Longitude   -79.35\n",
       "Latitude     36.75\n",
       "dtype: float64"
      ]
     },
     "execution_count": 40,
     "metadata": {},
     "output_type": "execute_result"
    }
   ],
   "source": [
    "# To find median \n",
    "data.median()"
   ]
  },
  {
   "cell_type": "markdown",
   "id": "757e9e6d",
   "metadata": {},
   "source": [
    "###### Standard deviation is a common stastical analysis tool to determine the deviation of a set of values from the mean value.The standard deviation value will be low if the deviation from the mean is small and vice versa."
   ]
  },
  {
   "cell_type": "markdown",
   "id": "9acfdcd4",
   "metadata": {},
   "source": [
    "### Conclusion "
   ]
  },
  {
   "cell_type": "markdown",
   "id": "bee58806",
   "metadata": {},
   "source": [
    "From the above DataSet we came to know that the data set contains 25600 rows and  13 columns and  it contians null values which were removed after data cleaning. The data set has 73 countires store inforamtion in that the most number of stores are located in the Country US. Data set has 4 various Brands they are 'Starbucks', 'Teavana', 'Evolution Fresh', 'Coffee House Holdings', in these 4 Brands the popularity has most to the Brand Starbucks. According to the data set the Starbucks stores are high in number across the world as compared to the remainging brands and the count of Starbucks is  25600, and in this the Brand Starbucks has the Licenced Ownership compared to others . In this statistical analysis also done by taking different atributes and finally by this we can see that the growth of the Starbucks is more than other companies and it has huge popularity across the World and mainly in ths State of US."
   ]
  },
  {
   "cell_type": "code",
   "execution_count": null,
   "id": "ac9c68aa",
   "metadata": {},
   "outputs": [],
   "source": []
  }
 ],
 "metadata": {
  "kernelspec": {
   "display_name": "Python 3 (ipykernel)",
   "language": "python",
   "name": "python3"
  },
  "language_info": {
   "codemirror_mode": {
    "name": "ipython",
    "version": 3
   },
   "file_extension": ".py",
   "mimetype": "text/x-python",
   "name": "python",
   "nbconvert_exporter": "python",
   "pygments_lexer": "ipython3",
   "version": "3.9.7"
  }
 },
 "nbformat": 4,
 "nbformat_minor": 5
}
